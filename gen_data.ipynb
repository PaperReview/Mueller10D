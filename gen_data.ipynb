{
 "cells": [
  {
   "cell_type": "code",
   "execution_count": 6,
   "metadata": {
    "collapsed": true
   },
   "outputs": [],
   "source": [
    "import numpy as np\n",
    "from numpy import linalg as LA\n",
    "import matplotlib.pyplot as plt"
   ]
  },
  {
   "cell_type": "code",
   "execution_count": 7,
   "metadata": {
    "collapsed": true
   },
   "outputs": [],
   "source": [
    "n = 10\n",
    "aa = np.zeros(dtype=np.float64, shape=(n,))\n",
    "bb = np.zeros(dtype=np.float64, shape=(n,))\n",
    "aa[:2] = [-0.558223634633, 1.4417258418]\n",
    "bb[:2] = [0.623499404931, 0.0280377585287]\n",
    "\n",
    "sigma = 0.05\n",
    "def Grad(px):\n",
    "    aa = [-1,-1,-6.5,0.7]\n",
    "    bb = [0,0,11,0.6]\n",
    "    cc = [-10,-10,-6.5,0.7]\n",
    "    AA = [-200,-100,-170,15]\n",
    "\n",
    "    XX = [1,0,-0.5,-1]\n",
    "    YY = [0,0.5,1.5,1]\n",
    "    \n",
    "    gg = np.zeros(shape=(n,),dtype=np.float64)\n",
    "    for j in range(4):\n",
    "        ee = AA[j]*np.exp(aa[j]*(px[0]-XX[j])**2+bb[j]*(px[0]-XX[j])*(px[1]-YY[j])+cc[j]*(px[1]-YY[j])**2)\n",
    "        gg[0] = gg[0] + (2*aa[j]*(px[0]-XX[j])+bb[j]*(px[1]-YY[j]))*ee\n",
    "        gg[1] = gg[1] + (bb[j]*(px[0]-XX[j])+2*cc[j]*(px[1]-YY[j]))*ee\n",
    "    gg[0] += 9*2*5*np.pi*np.cos(2*5*np.pi*px[0])*np.sin(2*5*np.pi*px[1])\n",
    "    gg[1] += 9*2*5*np.pi*np.sin(2*5*np.pi*px[0])*np.cos(2*5*np.pi*px[1])\n",
    "    for i in range(2,n):\n",
    "        gg[i] = px[i]/sigma**2\n",
    "    return gg\n",
    "\n",
    "def V(px):\n",
    "    aa = [-1,-1,-6.5,0.7]\n",
    "    bb = [0,0,11,0.6]\n",
    "    cc = [-10,-10,-6.5,0.7]\n",
    "    AA = [-200,-100,-170,15]\n",
    "    XX = [1,0,-0.5,-1]\n",
    "    YY = [0,0.5,1.5,1]\n",
    "    ee = 0\n",
    "    for j in range(4):\n",
    "        ee =  ee + AA[j]*np.exp(aa[j]*(px[:,0]-XX[j])**2+bb[j]*(px[:,0]-XX[j])*(px[:,1]-YY[j])+cc[j]*(px[:,1]-YY[j])**2)\n",
    "    ee += 9*np.sin(2*5*np.pi*px[:,0])*np.sin(2*5*np.pi*px[:,1])\n",
    "    for i in range(2,n):\n",
    "        ee += px[:,i]**2/2/sigma**2\n",
    "    return ee"
   ]
  },
  {
   "cell_type": "code",
   "execution_count": 8,
   "metadata": {},
   "outputs": [
    {
     "name": "stdout",
     "output_type": "stream",
     "text": [
      "(500000, 11)\n"
     ]
    }
   ],
   "source": [
    "# generate the data at kBT_\n",
    "kBT_      = 20\n",
    "D_size    = int(5e5)\n",
    "D         = []\n",
    "px        = aa+0.0\n",
    "firstsave = int(1e6)\n",
    "t_sep     = 100\n",
    "dt        = 1e-5\n",
    "r         = 0.1\n",
    "id_       = 0\n",
    "\n",
    "for i in range(D_size*t_sep*10+firstsave):\n",
    "    px = px - dt*Grad(px) + np.sqrt(2*kBT_*dt)*np.random.normal(size=(n,))\n",
    "    if i>=firstsave and i%t_sep==0 and px[0]<=1 and px[0]>=-1.5 and px[1]<=2 and px[1]>=-0.5 and LA.norm(px[:2]-aa[:2])>r and LA.norm(px[:2]-bb[:2])>r:\n",
    "        D.append(px)\n",
    "        id_ += 1\n",
    "    if id_>=D_size:\n",
    "        break\n",
    "\n",
    "D2 = np.zeros((D_size,1+n))\n",
    "D2[:,1:] = np.array(D)\n",
    "D2[:,0]  = V(np.array(D))\n",
    "print(D2.shape)\n",
    "np.savetxt('Data/D_'+str(kBT_)+'.txt',D2)"
   ]
  },
  {
   "cell_type": "code",
   "execution_count": null,
   "metadata": {
    "collapsed": true
   },
   "outputs": [],
   "source": []
  }
 ],
 "metadata": {
  "kernelspec": {
   "display_name": "Python 3",
   "language": "python",
   "name": "python3"
  },
  "language_info": {
   "codemirror_mode": {
    "name": "ipython",
    "version": 3
   },
   "file_extension": ".py",
   "mimetype": "text/x-python",
   "name": "python",
   "nbconvert_exporter": "python",
   "pygments_lexer": "ipython3",
   "version": "3.6.4"
  }
 },
 "nbformat": 4,
 "nbformat_minor": 2
}
